{
 "cells": [
  {
   "cell_type": "code",
   "execution_count": null,
   "metadata": {},
   "outputs": [],
   "source": [
    "import scipy.io as sio\n",
    "import autograd.numpy as np\n",
    "import autograd.numpy.random as npr\n",
    "npr.seed(0)\n",
    "\n",
    "import matplotlib.pyplot as plt\n",
    "%matplotlib inline\n",
    "\n",
    "import seaborn as sns\n",
    "sns.set_style(\"dark\")\n",
    "sns.set_context(\"talk\")\n",
    "\n",
    "color_names = [\"windows blue\",\n",
    "               \"red\",\n",
    "               \"amber\",\n",
    "               \"faded green\",\n",
    "               \"dusty purple\",\n",
    "               \"orange\",\n",
    "               \"clay\",\n",
    "               \"pink\",\n",
    "               \"greyish\",\n",
    "               \"mint\",\n",
    "               \"light cyan\",\n",
    "               \"steel blue\",\n",
    "               \"forest green\",\n",
    "               \"pastel purple\",\n",
    "               \"salmon\",\n",
    "               \"dark brown\"]\n",
    "\n",
    "colors = sns.xkcd_palette(color_names)\n",
    "\n",
    "import ssm\n",
    "from ssm.util import random_rotation, find_permutation"
   ]
  },
  {
   "cell_type": "code",
   "execution_count": null,
   "metadata": {},
   "outputs": [],
   "source": [
    "def format_data(input):\n",
    "    datas = []\n",
    "    for i in range(input.shape[0]):\n",
    "        input_cur = np.squeeze(input[i,:,:])\n",
    "\n",
    "        # To use the Poisson observation model, we must also\n",
    "        # convert our arrays to be integer types.\n",
    "        datas.append(np.asarray(input_cur, dtype=int))\n",
    "    return datas\n",
    "\n",
    "mat = sio.loadmat('rawdata.mat', squeeze_me=True, variable_names={'spdata','inpdata'})\n",
    "data_sp = format_data(mat['spdata'])\n",
    "data_inp = format_data(mat['inpdata'])\n",
    "\n",
    "binsize = 0.01\n",
    "n_trials = mat['spdata'].shape[0]\n",
    "n_timebins = mat['spdata'].shape[1]\n",
    "n_neurons = mat['spdata'].shape[2]\n",
    "\n",
    "inp_dim = mat['inpdata'].shape[2]\n",
    "state_dim = 10\n",
    "disc_dim = 3"
   ]
  },
  {
   "cell_type": "code",
   "execution_count": null,
   "metadata": {},
   "outputs": [],
   "source": [
    "fit_lds = ssm.LDS(n_neurons, state_dim, \n",
    "                   M = inp_dim,\n",
    "                   transitions=\"sticky\",\n",
    "                   emissions=\"poisson_orthog\", \n",
    "                   emission_kwargs=dict(link=\"softplus\", bin_size=binsize))\n",
    "\n",
    "# fit_lds = ssm.SLDS(n_neurons, disc_dim, state_dim, \n",
    "#                    M = inp_dim,\n",
    "#                    transitions=\"sticky\",\n",
    "#                    emissions=\"poisson_orthog\", \n",
    "#                    emission_kwargs=dict(link=\"softplus\", bin_size=binsize))\n",
    "\n",
    "fit_lds.initialize(data_sp)\n",
    "\n",
    "elbos, q = fit_lds.fit(data_sp, inputs = data_inp, \n",
    "                       method=\"laplace_em\",\n",
    "                       variational_posterior=\"structured_meanfield\",\n",
    "                       initialize=False,\n",
    "                       num_iters=10)"
   ]
  },
  {
   "cell_type": "code",
   "execution_count": null,
   "metadata": {},
   "outputs": [],
   "source": [
    "# Plot the ELBOs\n",
    "plt.plot(elbos[0:10], label=\"Laplace-EM\")\n",
    "plt.xlabel(\"Iteration\")\n",
    "plt.ylabel(\"ELBO\")\n",
    "plt.legend()"
   ]
  },
  {
   "cell_type": "code",
   "execution_count": null,
   "metadata": {},
   "outputs": [],
   "source": [
    "plt.figure()\n",
    "plt.imshow(fit_lds.emissions.Cs[0,:,:],aspect='auto')\n",
    "plt.colorbar()"
   ]
  },
  {
   "cell_type": "code",
   "execution_count": null,
   "metadata": {},
   "outputs": [],
   "source": [
    "tr = 10\n",
    "\n",
    "# Get the posterior mean of the continuous states\n",
    "q_x = q.mean_continuous_states[tr]\n",
    "\n",
    "# Smooth the data under the variational posterior\n",
    "yhat = fit_lds.smooth(q_x, data_sp[tr], input=data_inp[tr])\n",
    "zhat = fit_lds.most_likely_states(q_x, data_sp[tr], input=data_inp[tr])\n",
    "\n",
    "plt.figure(figsize=(8,4))\n",
    "for d in range(state_dim):\n",
    "    plt.plot(yhat[:,d], '-', color=colors[d], label=\"Estimated States\" if d==0 else None)\n",
    "plt.ylabel(\"$x$\")\n",
    "plt.xlabel(\"time\")\n",
    "# plt.legend(loc='upper right')\n",
    "plt.title(\"Estimated States\")\n",
    "plt.show()\n",
    "\n",
    "plt.figure(figsize=(8,4))\n",
    "plt.plot(zhat, '-', color=colors[d], label=\"Estimated States\" if d==0 else None)\n",
    "plt.ylabel(\"$x$\")\n",
    "plt.xlabel(\"time\")\n",
    "# plt.legend(loc='upper right')\n",
    "plt.title(\"Estimated States\")\n",
    "plt.show()\n",
    "\n",
    "\n",
    "plt.figure(figsize=(8,4))\n",
    "plt.plot(yhat[0,:], yhat[1,:])\n",
    "plt.ylabel(\"$x0$\")\n",
    "plt.xlabel(\"$x1$\")\n",
    "# plt.legend(loc='upper right')\n",
    "plt.title(\"Estimated States\")\n",
    "plt.show()\n"
   ]
  },
  {
   "cell_type": "code",
   "execution_count": null,
   "metadata": {},
   "outputs": [],
   "source": [
    "z_sim, x_sim, y_sim = fit_lds.sample(n_timebins, data_inp[tr])"
   ]
  },
  {
   "cell_type": "code",
   "execution_count": null,
   "metadata": {},
   "outputs": [],
   "source": [
    "plt.figure()\n",
    "plt.imshow(y_sim.T,aspect='auto',vmax = 1)\n",
    "plt.colorbar()"
   ]
  },
  {
   "cell_type": "code",
   "execution_count": null,
   "metadata": {},
   "outputs": [],
   "source": [
    "plt.figure()\n",
    "plt.imshow(data_sp[tr].T, aspect='auto',vmax =1)\n",
    "plt.colorbar()"
   ]
  },
  {
   "cell_type": "code",
   "execution_count": null,
   "metadata": {},
   "outputs": [],
   "source": [
    "cnum = 45\n",
    "plt.figure()\n",
    "plt.plot(y_sim[:,cnum])\n",
    "plt.plot(data_sp[tr][:,cnum])"
   ]
  },
  {
   "cell_type": "code",
   "execution_count": null,
   "metadata": {},
   "outputs": [],
   "source": []
  }
 ],
 "metadata": {
  "kernelspec": {
   "display_name": "ssmrun",
   "language": "python",
   "name": "ssmrun"
  },
  "language_info": {
   "codemirror_mode": {
    "name": "ipython",
    "version": 3
   },
   "file_extension": ".py",
   "mimetype": "text/x-python",
   "name": "python",
   "nbconvert_exporter": "python",
   "pygments_lexer": "ipython3",
   "version": "3.7.9"
  }
 },
 "nbformat": 4,
 "nbformat_minor": 4
}
