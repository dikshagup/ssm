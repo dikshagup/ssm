{
 "cells": [
  {
   "cell_type": "code",
   "execution_count": 9,
   "metadata": {},
   "outputs": [],
   "source": [
    "# %load fit_slds_singlearea.py\n",
    "import autograd.numpy as np\n",
    "import autograd.numpy.random as npr\n",
    "npr.seed(0)\n",
    "\n",
    "import ssm\n",
    "import sys\n",
    "sys.path.append(r\"/Users/dikshagupta/python_transfer/pbups_phys/\")\n",
    "from phys_helpers import *\n",
    "from physdata_preprocessing import *\n",
    "\n",
    "from scipy.ndimage import gaussian_filter1d\n",
    "\n",
    "\n",
    "\n",
    "    \n",
    "def format_spikes(FR, ntrials):\n",
    "    datas = []\n",
    "    for i in range(ntrials):\n",
    "        spikes_cur = np.squeeze(FR[:,:,i])\n",
    "\n",
    "        # remove columns which contain NaNs\n",
    "        idx_keep = np.invert(np.any(np.isnan(spikes_cur), axis=0))\n",
    "        spikes_cur = spikes_cur[:,idx_keep]\n",
    "\n",
    "        # Transpose the data for passing to SSM fit function\n",
    "        # To use the Poisson observation model, we must also\n",
    "        # convert our arrays to be integer types.\n",
    "        datas.append(np.asarray(spikes_cur.T, dtype=int))\n",
    "    return datas\n",
    "\n",
    "\n",
    "def fit_slds_no_crossval(p):\n",
    "    \n",
    "    df_trial, df_cell, _ = load_phys_data_from_Cell(p['filename'])\n",
    "    y, inputs = load_data_for_slds(df_trial, df_cell, p)\n",
    "    \n",
    "\n",
    "    print(\"Fitting SLDS with Laplace-EM\")\n",
    "    slds = ssm.SLDS(np.shape(y)[2], \n",
    "                    p['K'], \n",
    "                    p['D'], \n",
    "                    M = inputs[0].shape[1], \n",
    "                    emissions=\"poisson_orthog\", \n",
    "                    emission_kwargs={\"bin_size\":p['binsize']/1000, \"link\":\"log\"})\n",
    "\n",
    "    slds.initialize(y, inputs = inputs)\n",
    "\n",
    "    q_elbos, q = slds.fit(y, \n",
    "                          inputs = inputs, \n",
    "                          method=\"laplace_em\",\n",
    "                          variational_posterior=\"structured_meanfield\",\n",
    "                          num_iters=150, \n",
    "                          initialize=True,\n",
    "                          num_init_restarts = 5,\n",
    "                          alpha=0.5)\n",
    "\n",
    "    choice = split_trials(df_trial, 'pokedR')\n",
    "    scores = compute_fit_score(slds, q, y, inputs, choice, p)\n",
    "\n",
    "    filename = p['filename'][:16] + \"_sldsrun_K_\" + str(p['K']) + \"_D_\" + str(p['D'])\n",
    "    save_object([q, slds], '/Users/dikshagupta/ondrive/analysisDG/PBups_Phys//saved_results/ssm_singlearea/' + filename + '.pkl')\n",
    "    summary = {'p' : p,\n",
    "               'score' : scores}\n",
    "    np.save('/Users/dikshagupta/ondrive/analysisDG/PBups_Phys/saved_results/ssm_singlearea/' + filename + '.npy' , summary) \n",
    "  \n",
    "\n",
    "\n",
    "\n",
    "\n",
    "def fit_slds(p):\n",
    "    \n",
    "    df_trial, df_cell, _ = load_phys_data_from_Cell(p['filename'])\n",
    "    y, inputs = load_data_for_slds(df_trial, df_cell, p)\n",
    "    \n",
    "    from sklearn.model_selection import KFold\n",
    "    kf = KFold(n_splits = p['nfolds'])\n",
    "    n_neurons = np.shape(y)[2]\n",
    "    train_scores = np.zeros((p['nfolds'], n_neurons))\n",
    "    test_scores = np.zeros((p['nfolds'], n_neurons))\n",
    "    \n",
    "    for train, test in kf.split(range(len(df_trial))):\n",
    "        \n",
    "        y_train = [y[train_id] for train_id in train]\n",
    "        inputs_train = [inputs[train_id] for train_id in train]\n",
    "        \n",
    "        print(np.shape(y_train))\n",
    "     \n",
    "        print(\"Fitting SLDS with Laplace-EM\")\n",
    "        slds = ssm.SLDS(np.shape(y)[2], p['K'], p['D'], M = inputs_train[0].shape[1], \n",
    "                        emissions=\"poisson_orthog\", \n",
    "                        emission_kwargs={\"bin_size\":p['binsize']/1000, \"link\":\"log\"})\n",
    "        \n",
    "        slds.initialize(y_train, inputs = inputs_train)\n",
    "        \n",
    "        q_elbos, q = slds.fit(y_train, inputs = inputs_train, method=\"laplace_em\",\n",
    "                                      variational_posterior=\"structured_meanfield\",\n",
    "                                      num_iters=10, \n",
    "                                      initialize=True,\n",
    "                                      num_init_restarts = 5,\n",
    "                                      alpha=0.5)\n",
    "        \n",
    "        choice = split_trials(df_trial.loc[list(train)], 'pokedR')\n",
    "        train_scores[r] = compute_fit_score(slds, q, y_train, inputs_train, choice, p)\n",
    "\n",
    "        y_test = [y[test_id] for test_id in test]\n",
    "        inputs_test = [inputs[test_id] for test_id in test]\n",
    "        choice = split_trials(df_trial.loc[list(test)], 'pokedR')\n",
    "        test_scores[r] = compute_fit_score(slds, q, y_test, inputs_test, choice, p)\n",
    "\n",
    "    filename = p['filename'][:16] + \"_sldsrun_K_\" + str(p['K']) + \"_D_\" + str(p['D'])\n",
    "    save_object(q, '/Users/dikshagupta/ondrive/analysisDG/PBups_Phys/saved_results/ssm_singlearea/' + filename + '.pkl')\n",
    "    summary = {'p' : p,\n",
    "               'train_score' : train_scores,\n",
    "               'test_score' : test_scores}\n",
    "    np.save('/Users/dikshagupta/ondrive/analysisDG/PBups_Phys/saved_results/ssm_singlearea/' + filename + '.npy' , summary) \n",
    "  \n",
    "\n",
    "\n",
    "        \n",
    "def compute_fit_score(slds, q, ytrue, inp, choice, p):\n",
    "\n",
    "    ypred = []\n",
    "    print(len(ytrue))\n",
    "    for tr in range(len(ytrue)):\n",
    "        q_x = q.mean_continuous_states[tr]\n",
    "        ypred.append(slds.smooth(q_x, ytrue[tr], input = inp[tr]))\n",
    "\n",
    "    ytrue = np.array(ytrue)\n",
    "    ypred = np.array(ypred)\n",
    "    denom = p['binsize']*0.001\n",
    "    assert np.shape(ypred) == np.shape(ytrue)\n",
    "\n",
    "    n_neurons = np.shape(ytrue)[2]\n",
    "    r2 = np.zeros(n_neurons)\n",
    "\n",
    "    for i in range(n_neurons):\n",
    "\n",
    "        true_psth = [gaussian_filter1d(np.mean(ytrue[:,:,i][choice[ind]], axis = 0)/denom, 2) \\\n",
    "                     for ind in list(choice)]\n",
    "        sim_psth = [np.mean(ypred[:,:,i][choice[ind]], \n",
    "                            axis = 0)/denom for ind in list(choice)]\n",
    "        mean_PSTH = np.nanmean(np.vstack(true_psth))\n",
    "\n",
    "        r2_num = 0.0\n",
    "        r2_den = 0.0\n",
    "\n",
    "        # loop over choices\n",
    "        for j in list(choice):\n",
    "            r2_num += np.nansum( (true_psth[j] - sim_psth[j])**2)\n",
    "            r2_den += np.nansum( (mean_PSTH - true_psth[j])**2)\n",
    "\n",
    "        r2[i] = 1 - r2_num / r2_den\n",
    "\n",
    "    return r2\n",
    "\n",
    "     \n",
    "    \n",
    "    \n",
    "def load_data_for_slds(df_trial, df_cell, p):\n",
    "    \n",
    "    ntrials = len(df_trial)\n",
    "\n",
    "    # process df_cell\n",
    "    df_cell = df_cell[df_cell['stim_fr'] >= p['fr_thresh']].reset_index()\n",
    "    df_cell = df_cell[df_cell['region'].str.match(p['region'])].reset_index(drop = True)\n",
    "\n",
    "\n",
    "    # get rasters for each neuron and concatenate\n",
    "    y = []\n",
    "    for cellnum in range(len(df_cell)):\n",
    "        PSTH = make_psth(df_cell.loc[cellnum, 'spiketime_s'], \n",
    "                            df_trial,\n",
    "                            split_by = p['split_by'],\n",
    "                            align_to = p['align_to'], \n",
    "                            post_mask = p['post_mask'],\n",
    "                            window = p['window'], \n",
    "                            filter_type = p['filter_type'],\n",
    "                            filter_w = p['filter_w'],\n",
    "                            binsize = p['binsize'],\n",
    "                            plot = False)\n",
    "\n",
    "        y.append(PSTH['trial_fr'][0].T)\n",
    "    y = format_spikes(np.array(y), ntrials)\n",
    "    \n",
    "        # get click info:\n",
    "    window = adjust_window(p['window'], p['binsize'])\n",
    "    edges = np.arange(p['window'][0], p['window'][1] + p['binsize'], p['binsize'])*0.001 # convert to s \n",
    "\n",
    "    inputs = []\n",
    "    for tr in range(ntrials):\n",
    "        counts_L, _ = np.histogram(df_trial['leftBups'][tr] - df_trial['cpoke_in'][tr], edges)\n",
    "        counts_R, _ = np.histogram(df_trial['rightBups'][tr] - df_trial['cpoke_in'][tr], edges)\n",
    "        stimstart, _ = np.histogram(df_trial['stereo_click'][tr] - df_trial['cpoke_in'][tr], edges)\n",
    "        inputs.append(np.asarray(np.vstack((counts_L, counts_R, stimstart)).T, dtype=int))\n",
    "        \n",
    "    return y, inputs\n",
    "\n",
    "\n",
    "def save_object(obj, filename):\n",
    "    import pickle\n",
    "    with open(filename, 'wb') as output:  # Overwrites any existing file.\n",
    "        pickle.dump(obj, output, pickle.HIGHEST_PROTOCOL)\n",
    "        \n",
    "        \n",
    " "
   ]
  },
  {
   "cell_type": "code",
   "execution_count": 10,
   "metadata": {},
   "outputs": [
    {
     "name": "stdout",
     "output_type": "stream",
     "text": [
      "Fitting SLDS with Laplace-EM\n"
     ]
    },
    {
     "data": {
      "application/vnd.jupyter.widget-view+json": {
       "model_id": "e684472bf33c4180bcbfbece4f88a8b3",
       "version_major": 2,
       "version_minor": 0
      },
      "text/plain": [
       "  0%|          | 0/5 [00:00<?, ?it/s]"
      ]
     },
     "metadata": {},
     "output_type": "display_data"
    },
    {
     "name": "stdout",
     "output_type": "stream",
     "text": [
      "Initializing with an ARHMM using 25 steps of EM.\n"
     ]
    },
    {
     "data": {
      "application/vnd.jupyter.widget-view+json": {
       "model_id": "f325cdc9eddc4c4490475acdee1850a6",
       "version_major": 2,
       "version_minor": 0
      },
      "text/plain": [
       "  0%|          | 0/25 [00:00<?, ?it/s]"
      ]
     },
     "metadata": {},
     "output_type": "display_data"
    },
    {
     "name": "stdout",
     "output_type": "stream",
     "text": [
      "Initializing with an ARHMM using 25 steps of EM.\n"
     ]
    },
    {
     "data": {
      "application/vnd.jupyter.widget-view+json": {
       "model_id": "447dea33a66545b5ac7f9214b6754fd5",
       "version_major": 2,
       "version_minor": 0
      },
      "text/plain": [
       "  0%|          | 0/25 [00:00<?, ?it/s]"
      ]
     },
     "metadata": {},
     "output_type": "display_data"
    },
    {
     "name": "stdout",
     "output_type": "stream",
     "text": [
      "Initializing with an ARHMM using 25 steps of EM.\n"
     ]
    },
    {
     "data": {
      "application/vnd.jupyter.widget-view+json": {
       "model_id": "1d1c2e4c15a44606a5f4e26c43d6c140",
       "version_major": 2,
       "version_minor": 0
      },
      "text/plain": [
       "  0%|          | 0/25 [00:00<?, ?it/s]"
      ]
     },
     "metadata": {},
     "output_type": "display_data"
    },
    {
     "name": "stdout",
     "output_type": "stream",
     "text": [
      "Initializing with an ARHMM using 25 steps of EM.\n"
     ]
    },
    {
     "data": {
      "application/vnd.jupyter.widget-view+json": {
       "model_id": "4f954f349fa14ffaaefba2f47bd4209a",
       "version_major": 2,
       "version_minor": 0
      },
      "text/plain": [
       "  0%|          | 0/25 [00:00<?, ?it/s]"
      ]
     },
     "metadata": {},
     "output_type": "display_data"
    },
    {
     "name": "stdout",
     "output_type": "stream",
     "text": [
      "Initializing with an ARHMM using 25 steps of EM.\n"
     ]
    },
    {
     "data": {
      "application/vnd.jupyter.widget-view+json": {
       "model_id": "b2d0d4b26b6240f0a9189a2a760410bd",
       "version_major": 2,
       "version_minor": 0
      },
      "text/plain": [
       "  0%|          | 0/25 [00:00<?, ?it/s]"
      ]
     },
     "metadata": {},
     "output_type": "display_data"
    },
    {
     "data": {
      "application/vnd.jupyter.widget-view+json": {
       "model_id": "f94ca577747d4cc4ad09d6ad1524a1bc",
       "version_major": 2,
       "version_minor": 0
      },
      "text/plain": [
       "  0%|          | 0/10 [00:00<?, ?it/s]"
      ]
     },
     "metadata": {},
     "output_type": "display_data"
    },
    {
     "name": "stdout",
     "output_type": "stream",
     "text": [
      "323\n",
      "Fitting SLDS with Laplace-EM\n"
     ]
    },
    {
     "ename": "KeyboardInterrupt",
     "evalue": "",
     "output_type": "error",
     "traceback": [
      "\u001b[0;31m---------------------------------------\u001b[0m",
      "\u001b[0;31mKeyboardInterrupt\u001b[0mTraceback (most recent call last)",
      "\u001b[0;32m<ipython-input-10-b85caec79441>\u001b[0m in \u001b[0;36m<module>\u001b[0;34m\u001b[0m\n\u001b[1;32m     29\u001b[0m                 \u001b[0;32mfor\u001b[0m \u001b[0mD\u001b[0m \u001b[0;32min\u001b[0m \u001b[0mrange\u001b[0m\u001b[0;34m(\u001b[0m\u001b[0;36m1\u001b[0m\u001b[0;34m,\u001b[0m\u001b[0;36m8\u001b[0m\u001b[0;34m)\u001b[0m\u001b[0;34m:\u001b[0m\u001b[0;34m\u001b[0m\u001b[0;34m\u001b[0m\u001b[0m\n\u001b[1;32m     30\u001b[0m                     \u001b[0mp\u001b[0m\u001b[0;34m[\u001b[0m\u001b[0;34m'D'\u001b[0m\u001b[0;34m]\u001b[0m \u001b[0;34m=\u001b[0m \u001b[0mD\u001b[0m   \u001b[0;31m# number of latent dimensions\u001b[0m\u001b[0;34m\u001b[0m\u001b[0;34m\u001b[0m\u001b[0m\n\u001b[0;32m---> 31\u001b[0;31m                     \u001b[0mfit_slds_no_crossval\u001b[0m\u001b[0;34m(\u001b[0m\u001b[0mp\u001b[0m\u001b[0;34m)\u001b[0m\u001b[0;34m\u001b[0m\u001b[0;34m\u001b[0m\u001b[0m\n\u001b[0m\u001b[1;32m     32\u001b[0m \u001b[0;34m\u001b[0m\u001b[0m\n\u001b[1;32m     33\u001b[0m \u001b[0;34m\u001b[0m\u001b[0m\n",
      "\u001b[0;32m<ipython-input-9-25eddba88a5a>\u001b[0m in \u001b[0;36mfit_slds_no_crossval\u001b[0;34m(p)\u001b[0m\n\u001b[1;32m     45\u001b[0m                     emission_kwargs={\"bin_size\":p['binsize']/1000, \"link\":\"log\"})\n\u001b[1;32m     46\u001b[0m \u001b[0;34m\u001b[0m\u001b[0m\n\u001b[0;32m---> 47\u001b[0;31m     \u001b[0mslds\u001b[0m\u001b[0;34m.\u001b[0m\u001b[0minitialize\u001b[0m\u001b[0;34m(\u001b[0m\u001b[0my\u001b[0m\u001b[0;34m,\u001b[0m \u001b[0minputs\u001b[0m \u001b[0;34m=\u001b[0m \u001b[0minputs\u001b[0m\u001b[0;34m)\u001b[0m\u001b[0;34m\u001b[0m\u001b[0;34m\u001b[0m\u001b[0m\n\u001b[0m\u001b[1;32m     48\u001b[0m \u001b[0;34m\u001b[0m\u001b[0m\n\u001b[1;32m     49\u001b[0m     q_elbos, q = slds.fit(y, \n",
      "\u001b[0;32m~/python_transfer/ssm/ssm/util.py\u001b[0m in \u001b[0;36mwrapper\u001b[0;34m(self, datas, inputs, masks, tags, **kwargs)\u001b[0m\n\u001b[1;32m    109\u001b[0m             \u001b[0mtags\u001b[0m \u001b[0;34m=\u001b[0m \u001b[0;34m[\u001b[0m\u001b[0mtags\u001b[0m\u001b[0;34m]\u001b[0m\u001b[0;34m\u001b[0m\u001b[0;34m\u001b[0m\u001b[0m\n\u001b[1;32m    110\u001b[0m \u001b[0;34m\u001b[0m\u001b[0m\n\u001b[0;32m--> 111\u001b[0;31m         \u001b[0;32mreturn\u001b[0m \u001b[0mf\u001b[0m\u001b[0;34m(\u001b[0m\u001b[0mself\u001b[0m\u001b[0;34m,\u001b[0m \u001b[0mdatas\u001b[0m\u001b[0;34m,\u001b[0m \u001b[0minputs\u001b[0m\u001b[0;34m=\u001b[0m\u001b[0minputs\u001b[0m\u001b[0;34m,\u001b[0m \u001b[0mmasks\u001b[0m\u001b[0;34m=\u001b[0m\u001b[0mmasks\u001b[0m\u001b[0;34m,\u001b[0m \u001b[0mtags\u001b[0m\u001b[0;34m=\u001b[0m\u001b[0mtags\u001b[0m\u001b[0;34m,\u001b[0m \u001b[0;34m**\u001b[0m\u001b[0mkwargs\u001b[0m\u001b[0;34m)\u001b[0m\u001b[0;34m\u001b[0m\u001b[0;34m\u001b[0m\u001b[0m\n\u001b[0m\u001b[1;32m    112\u001b[0m \u001b[0;34m\u001b[0m\u001b[0m\n\u001b[1;32m    113\u001b[0m     \u001b[0;32mreturn\u001b[0m \u001b[0mwrapper\u001b[0m\u001b[0;34m\u001b[0m\u001b[0;34m\u001b[0m\u001b[0m\n",
      "\u001b[0;32m~/python_transfer/ssm/ssm/lds.py\u001b[0m in \u001b[0;36minitialize\u001b[0;34m(self, datas, inputs, masks, tags, verbose, num_init_iters, discrete_state_init_method, num_init_restarts)\u001b[0m\n\u001b[1;32m    192\u001b[0m                       \u001b[0mmethod\u001b[0m\u001b[0;34m=\u001b[0m\u001b[0;34m\"em\"\u001b[0m\u001b[0;34m,\u001b[0m\u001b[0;34m\u001b[0m\u001b[0;34m\u001b[0m\u001b[0m\n\u001b[1;32m    193\u001b[0m                       \u001b[0mnum_iters\u001b[0m\u001b[0;34m=\u001b[0m\u001b[0mnum_init_iters\u001b[0m\u001b[0;34m,\u001b[0m\u001b[0;34m\u001b[0m\u001b[0;34m\u001b[0m\u001b[0m\n\u001b[0;32m--> 194\u001b[0;31m                       init_method=discrete_state_init_method)\n\u001b[0m\u001b[1;32m    195\u001b[0m \u001b[0;34m\u001b[0m\u001b[0m\n\u001b[1;32m    196\u001b[0m             \u001b[0;31m#Keep track of the arhmm that led to the highest log probability\u001b[0m\u001b[0;34m\u001b[0m\u001b[0;34m\u001b[0m\u001b[0;34m\u001b[0m\u001b[0m\n",
      "\u001b[0;32m~/python_transfer/ssm/ssm/util.py\u001b[0m in \u001b[0;36mwrapper\u001b[0;34m(self, datas, inputs, masks, tags, **kwargs)\u001b[0m\n\u001b[1;32m    109\u001b[0m             \u001b[0mtags\u001b[0m \u001b[0;34m=\u001b[0m \u001b[0;34m[\u001b[0m\u001b[0mtags\u001b[0m\u001b[0;34m]\u001b[0m\u001b[0;34m\u001b[0m\u001b[0;34m\u001b[0m\u001b[0m\n\u001b[1;32m    110\u001b[0m \u001b[0;34m\u001b[0m\u001b[0m\n\u001b[0;32m--> 111\u001b[0;31m         \u001b[0;32mreturn\u001b[0m \u001b[0mf\u001b[0m\u001b[0;34m(\u001b[0m\u001b[0mself\u001b[0m\u001b[0;34m,\u001b[0m \u001b[0mdatas\u001b[0m\u001b[0;34m,\u001b[0m \u001b[0minputs\u001b[0m\u001b[0;34m=\u001b[0m\u001b[0minputs\u001b[0m\u001b[0;34m,\u001b[0m \u001b[0mmasks\u001b[0m\u001b[0;34m=\u001b[0m\u001b[0mmasks\u001b[0m\u001b[0;34m,\u001b[0m \u001b[0mtags\u001b[0m\u001b[0;34m=\u001b[0m\u001b[0mtags\u001b[0m\u001b[0;34m,\u001b[0m \u001b[0;34m**\u001b[0m\u001b[0mkwargs\u001b[0m\u001b[0;34m)\u001b[0m\u001b[0;34m\u001b[0m\u001b[0;34m\u001b[0m\u001b[0m\n\u001b[0m\u001b[1;32m    112\u001b[0m \u001b[0;34m\u001b[0m\u001b[0m\n\u001b[1;32m    113\u001b[0m     \u001b[0;32mreturn\u001b[0m \u001b[0mwrapper\u001b[0m\u001b[0;34m\u001b[0m\u001b[0;34m\u001b[0m\u001b[0m\n",
      "\u001b[0;32m~/python_transfer/ssm/ssm/hmm.py\u001b[0m in \u001b[0;36mfit\u001b[0;34m(self, datas, inputs, masks, tags, verbose, method, initialize, init_method, **kwargs)\u001b[0m\n\u001b[1;32m    507\u001b[0m                                         \u001b[0mtags\u001b[0m\u001b[0;34m=\u001b[0m\u001b[0mtags\u001b[0m\u001b[0;34m,\u001b[0m\u001b[0;34m\u001b[0m\u001b[0;34m\u001b[0m\u001b[0m\n\u001b[1;32m    508\u001b[0m                                         \u001b[0mverbose\u001b[0m\u001b[0;34m=\u001b[0m\u001b[0mverbose\u001b[0m\u001b[0;34m,\u001b[0m\u001b[0;34m\u001b[0m\u001b[0;34m\u001b[0m\u001b[0m\n\u001b[0;32m--> 509\u001b[0;31m                                         **kwargs)\n\u001b[0m\u001b[1;32m    510\u001b[0m \u001b[0;34m\u001b[0m\u001b[0m\n\u001b[1;32m    511\u001b[0m \u001b[0;34m\u001b[0m\u001b[0m\n",
      "\u001b[0;32m~/python_transfer/ssm/ssm/hmm.py\u001b[0m in \u001b[0;36m_fit_em\u001b[0;34m(self, datas, inputs, masks, tags, verbose, num_iters, tolerance, init_state_mstep_kwargs, transitions_mstep_kwargs, observations_mstep_kwargs, **kwargs)\u001b[0m\n\u001b[1;32m    454\u001b[0m             \u001b[0mself\u001b[0m\u001b[0;34m.\u001b[0m\u001b[0minit_state_distn\u001b[0m\u001b[0;34m.\u001b[0m\u001b[0mm_step\u001b[0m\u001b[0;34m(\u001b[0m\u001b[0mexpectations\u001b[0m\u001b[0;34m,\u001b[0m \u001b[0mdatas\u001b[0m\u001b[0;34m,\u001b[0m \u001b[0minputs\u001b[0m\u001b[0;34m,\u001b[0m \u001b[0mmasks\u001b[0m\u001b[0;34m,\u001b[0m \u001b[0mtags\u001b[0m\u001b[0;34m,\u001b[0m \u001b[0;34m**\u001b[0m\u001b[0minit_state_mstep_kwargs\u001b[0m\u001b[0;34m)\u001b[0m\u001b[0;34m\u001b[0m\u001b[0;34m\u001b[0m\u001b[0m\n\u001b[1;32m    455\u001b[0m             \u001b[0mself\u001b[0m\u001b[0;34m.\u001b[0m\u001b[0mtransitions\u001b[0m\u001b[0;34m.\u001b[0m\u001b[0mm_step\u001b[0m\u001b[0;34m(\u001b[0m\u001b[0mexpectations\u001b[0m\u001b[0;34m,\u001b[0m \u001b[0mdatas\u001b[0m\u001b[0;34m,\u001b[0m \u001b[0minputs\u001b[0m\u001b[0;34m,\u001b[0m \u001b[0mmasks\u001b[0m\u001b[0;34m,\u001b[0m \u001b[0mtags\u001b[0m\u001b[0;34m,\u001b[0m \u001b[0;34m**\u001b[0m\u001b[0mtransitions_mstep_kwargs\u001b[0m\u001b[0;34m)\u001b[0m\u001b[0;34m\u001b[0m\u001b[0;34m\u001b[0m\u001b[0m\n\u001b[0;32m--> 456\u001b[0;31m             \u001b[0mself\u001b[0m\u001b[0;34m.\u001b[0m\u001b[0mobservations\u001b[0m\u001b[0;34m.\u001b[0m\u001b[0mm_step\u001b[0m\u001b[0;34m(\u001b[0m\u001b[0mexpectations\u001b[0m\u001b[0;34m,\u001b[0m \u001b[0mdatas\u001b[0m\u001b[0;34m,\u001b[0m \u001b[0minputs\u001b[0m\u001b[0;34m,\u001b[0m \u001b[0mmasks\u001b[0m\u001b[0;34m,\u001b[0m \u001b[0mtags\u001b[0m\u001b[0;34m,\u001b[0m \u001b[0;34m**\u001b[0m\u001b[0mobservations_mstep_kwargs\u001b[0m\u001b[0;34m)\u001b[0m\u001b[0;34m\u001b[0m\u001b[0;34m\u001b[0m\u001b[0m\n\u001b[0m\u001b[1;32m    457\u001b[0m \u001b[0;34m\u001b[0m\u001b[0m\n\u001b[1;32m    458\u001b[0m             \u001b[0;31m# Store progress\u001b[0m\u001b[0;34m\u001b[0m\u001b[0;34m\u001b[0m\u001b[0;34m\u001b[0m\u001b[0m\n",
      "\u001b[0;32m~/python_transfer/ssm/ssm/observations.py\u001b[0m in \u001b[0;36mm_step\u001b[0;34m(self, expectations, datas, inputs, masks, tags, continuous_expectations, **kwargs)\u001b[0m\n\u001b[1;32m   1024\u001b[0m         \u001b[0;31m# Collect sufficient statistics\u001b[0m\u001b[0;34m\u001b[0m\u001b[0;34m\u001b[0m\u001b[0;34m\u001b[0m\u001b[0m\n\u001b[1;32m   1025\u001b[0m         \u001b[0;32mif\u001b[0m \u001b[0mcontinuous_expectations\u001b[0m \u001b[0;32mis\u001b[0m \u001b[0;32mNone\u001b[0m\u001b[0;34m:\u001b[0m\u001b[0;34m\u001b[0m\u001b[0;34m\u001b[0m\u001b[0m\n\u001b[0;32m-> 1026\u001b[0;31m             \u001b[0mExuxuTs\u001b[0m\u001b[0;34m,\u001b[0m \u001b[0mExuyTs\u001b[0m\u001b[0;34m,\u001b[0m \u001b[0mEyyTs\u001b[0m\u001b[0;34m,\u001b[0m \u001b[0mEns\u001b[0m \u001b[0;34m=\u001b[0m \u001b[0mself\u001b[0m\u001b[0;34m.\u001b[0m\u001b[0m_get_sufficient_statistics\u001b[0m\u001b[0;34m(\u001b[0m\u001b[0mexpectations\u001b[0m\u001b[0;34m,\u001b[0m \u001b[0mdatas\u001b[0m\u001b[0;34m,\u001b[0m \u001b[0minputs\u001b[0m\u001b[0;34m)\u001b[0m\u001b[0;34m\u001b[0m\u001b[0;34m\u001b[0m\u001b[0m\n\u001b[0m\u001b[1;32m   1027\u001b[0m         \u001b[0;32melse\u001b[0m\u001b[0;34m:\u001b[0m\u001b[0;34m\u001b[0m\u001b[0;34m\u001b[0m\u001b[0m\n\u001b[1;32m   1028\u001b[0m             \u001b[0mExuxuTs\u001b[0m\u001b[0;34m,\u001b[0m \u001b[0mExuyTs\u001b[0m\u001b[0;34m,\u001b[0m \u001b[0mEyyTs\u001b[0m\u001b[0;34m,\u001b[0m \u001b[0mEns\u001b[0m \u001b[0;34m=\u001b[0m\u001b[0;31m \u001b[0m\u001b[0;31m\\\u001b[0m\u001b[0;34m\u001b[0m\u001b[0;34m\u001b[0m\u001b[0m\n",
      "\u001b[0;32m~/python_transfer/ssm/ssm/observations.py\u001b[0m in \u001b[0;36m_get_sufficient_statistics\u001b[0;34m(self, expectations, datas, inputs)\u001b[0m\n\u001b[1;32m    938\u001b[0m \u001b[0;34m\u001b[0m\u001b[0m\n\u001b[1;32m    939\u001b[0m                 \u001b[0mExuxuTs\u001b[0m\u001b[0;34m[\u001b[0m\u001b[0mk\u001b[0m\u001b[0;34m,\u001b[0m \u001b[0mD\u001b[0m\u001b[0;34m*\u001b[0m\u001b[0mlags\u001b[0m\u001b[0;34m:\u001b[0m\u001b[0mD\u001b[0m\u001b[0;34m*\u001b[0m\u001b[0mlags\u001b[0m\u001b[0;34m+\u001b[0m\u001b[0mM\u001b[0m\u001b[0;34m,\u001b[0m \u001b[0mD\u001b[0m\u001b[0;34m*\u001b[0m\u001b[0mlags\u001b[0m\u001b[0;34m:\u001b[0m\u001b[0mD\u001b[0m\u001b[0;34m*\u001b[0m\u001b[0mlags\u001b[0m\u001b[0;34m+\u001b[0m\u001b[0mM\u001b[0m\u001b[0;34m]\u001b[0m \u001b[0;34m+=\u001b[0m \u001b[0mnp\u001b[0m\u001b[0;34m.\u001b[0m\u001b[0meinsum\u001b[0m\u001b[0;34m(\u001b[0m\u001b[0;34m't,ti,tj->ij'\u001b[0m\u001b[0;34m,\u001b[0m \u001b[0mw\u001b[0m\u001b[0;34m,\u001b[0m \u001b[0mu\u001b[0m\u001b[0;34m,\u001b[0m \u001b[0mu\u001b[0m\u001b[0;34m)\u001b[0m\u001b[0;34m\u001b[0m\u001b[0;34m\u001b[0m\u001b[0m\n\u001b[0;32m--> 940\u001b[0;31m                 \u001b[0mExuxuTs\u001b[0m\u001b[0;34m[\u001b[0m\u001b[0mk\u001b[0m\u001b[0;34m,\u001b[0m \u001b[0mD\u001b[0m\u001b[0;34m*\u001b[0m\u001b[0mlags\u001b[0m\u001b[0;34m:\u001b[0m\u001b[0mD\u001b[0m\u001b[0;34m*\u001b[0m\u001b[0mlags\u001b[0m\u001b[0;34m+\u001b[0m\u001b[0mM\u001b[0m\u001b[0;34m,\u001b[0m \u001b[0;34m-\u001b[0m\u001b[0;36m1\u001b[0m\u001b[0;34m]\u001b[0m \u001b[0;34m+=\u001b[0m \u001b[0mnp\u001b[0m\u001b[0;34m.\u001b[0m\u001b[0meinsum\u001b[0m\u001b[0;34m(\u001b[0m\u001b[0;34m't,ti->i'\u001b[0m\u001b[0;34m,\u001b[0m \u001b[0mw\u001b[0m\u001b[0;34m,\u001b[0m \u001b[0mu\u001b[0m\u001b[0;34m)\u001b[0m\u001b[0;34m\u001b[0m\u001b[0;34m\u001b[0m\u001b[0m\n\u001b[0m\u001b[1;32m    941\u001b[0m                 \u001b[0mExuxuTs\u001b[0m\u001b[0;34m[\u001b[0m\u001b[0mk\u001b[0m\u001b[0;34m,\u001b[0m \u001b[0;34m-\u001b[0m\u001b[0;36m1\u001b[0m\u001b[0;34m,\u001b[0m \u001b[0;34m-\u001b[0m\u001b[0;36m1\u001b[0m\u001b[0;34m]\u001b[0m \u001b[0;34m+=\u001b[0m \u001b[0mnp\u001b[0m\u001b[0;34m.\u001b[0m\u001b[0msum\u001b[0m\u001b[0;34m(\u001b[0m\u001b[0mw\u001b[0m\u001b[0;34m)\u001b[0m\u001b[0;34m\u001b[0m\u001b[0;34m\u001b[0m\u001b[0m\n\u001b[1;32m    942\u001b[0m \u001b[0;34m\u001b[0m\u001b[0m\n",
      "\u001b[0;32m~/.virtualenvs/ssmrun/lib/python3.7/site-packages/autograd/tracer.py\u001b[0m in \u001b[0;36mf_wrapped\u001b[0;34m(*args, **kwargs)\u001b[0m\n\u001b[1;32m     46\u001b[0m             \u001b[0;32mreturn\u001b[0m \u001b[0mnew_box\u001b[0m\u001b[0;34m(\u001b[0m\u001b[0mans\u001b[0m\u001b[0;34m,\u001b[0m \u001b[0mtrace\u001b[0m\u001b[0;34m,\u001b[0m \u001b[0mnode\u001b[0m\u001b[0;34m)\u001b[0m\u001b[0;34m\u001b[0m\u001b[0;34m\u001b[0m\u001b[0m\n\u001b[1;32m     47\u001b[0m         \u001b[0;32melse\u001b[0m\u001b[0;34m:\u001b[0m\u001b[0;34m\u001b[0m\u001b[0;34m\u001b[0m\u001b[0m\n\u001b[0;32m---> 48\u001b[0;31m             \u001b[0;32mreturn\u001b[0m \u001b[0mf_raw\u001b[0m\u001b[0;34m(\u001b[0m\u001b[0;34m*\u001b[0m\u001b[0margs\u001b[0m\u001b[0;34m,\u001b[0m \u001b[0;34m**\u001b[0m\u001b[0mkwargs\u001b[0m\u001b[0;34m)\u001b[0m\u001b[0;34m\u001b[0m\u001b[0;34m\u001b[0m\u001b[0m\n\u001b[0m\u001b[1;32m     49\u001b[0m     \u001b[0mf_wrapped\u001b[0m\u001b[0;34m.\u001b[0m\u001b[0mfun\u001b[0m \u001b[0;34m=\u001b[0m \u001b[0mf_raw\u001b[0m\u001b[0;34m\u001b[0m\u001b[0;34m\u001b[0m\u001b[0m\n\u001b[1;32m     50\u001b[0m     \u001b[0mf_wrapped\u001b[0m\u001b[0;34m.\u001b[0m\u001b[0m_is_autograd_primitive\u001b[0m \u001b[0;34m=\u001b[0m \u001b[0;32mTrue\u001b[0m\u001b[0;34m\u001b[0m\u001b[0;34m\u001b[0m\u001b[0m\n",
      "\u001b[0;32m<__array_function__ internals>\u001b[0m in \u001b[0;36meinsum\u001b[0;34m(*args, **kwargs)\u001b[0m\n",
      "\u001b[0;32m~/.virtualenvs/ssmrun/lib/python3.7/site-packages/numpy/core/einsumfunc.py\u001b[0m in \u001b[0;36meinsum\u001b[0;34m(out, optimize, *operands, **kwargs)\u001b[0m\n\u001b[1;32m   1348\u001b[0m         \u001b[0;32mif\u001b[0m \u001b[0mspecified_out\u001b[0m\u001b[0;34m:\u001b[0m\u001b[0;34m\u001b[0m\u001b[0;34m\u001b[0m\u001b[0m\n\u001b[1;32m   1349\u001b[0m             \u001b[0mkwargs\u001b[0m\u001b[0;34m[\u001b[0m\u001b[0;34m'out'\u001b[0m\u001b[0;34m]\u001b[0m \u001b[0;34m=\u001b[0m \u001b[0mout\u001b[0m\u001b[0;34m\u001b[0m\u001b[0;34m\u001b[0m\u001b[0m\n\u001b[0;32m-> 1350\u001b[0;31m         \u001b[0;32mreturn\u001b[0m \u001b[0mc_einsum\u001b[0m\u001b[0;34m(\u001b[0m\u001b[0;34m*\u001b[0m\u001b[0moperands\u001b[0m\u001b[0;34m,\u001b[0m \u001b[0;34m**\u001b[0m\u001b[0mkwargs\u001b[0m\u001b[0;34m)\u001b[0m\u001b[0;34m\u001b[0m\u001b[0;34m\u001b[0m\u001b[0m\n\u001b[0m\u001b[1;32m   1351\u001b[0m \u001b[0;34m\u001b[0m\u001b[0m\n\u001b[1;32m   1352\u001b[0m     \u001b[0;31m# Check the kwargs to avoid a more cryptic error later, without having to\u001b[0m\u001b[0;34m\u001b[0m\u001b[0;34m\u001b[0m\u001b[0;34m\u001b[0m\u001b[0m\n",
      "\u001b[0;31mKeyboardInterrupt\u001b[0m: "
     ]
    }
   ],
   "source": [
    "ratnames = [\"X046\", \"X059\", \"X062\", \"X085\"]\n",
    "regions = [\"M2\", \"DMS\"]\n",
    "\n",
    "for ratname in ratnames:\n",
    "    \n",
    "    p = dict()\n",
    "    p['ratname'] = ratname\n",
    "    \n",
    "    p['fr_thresh'] = 1.\n",
    "    p['align_to'] = 'cpoke_in'\n",
    "    p['post_mask'] = None\n",
    "    p['window'] = [0, 1500]\n",
    "    p['split_by'] = None\n",
    "    p['filter_type'] = None\n",
    "    p['filter_w'] = None\n",
    "    p['binsize'] = 25\n",
    "    p['nfolds'] = 10\n",
    "    \n",
    "    files = get_sortCells_for_rat(p['ratname'])\n",
    "    for f in files:\n",
    "        p['filename'] = f\n",
    "        \n",
    "        for reg in regions:\n",
    "            p['region'] = reg\n",
    "                \n",
    "            for K in range(1,4):\n",
    "                p['K'] = K   # number of discrete states\n",
    "\n",
    "                for D in range(1,8):\n",
    "                    p['D'] = D   # number of latent dimensions\n",
    "                    fit_slds_no_crossval(p)\n",
    "    \n",
    "    "
   ]
  }
 ],
 "metadata": {
  "kernelspec": {
   "display_name": "ssmrun",
   "language": "python",
   "name": "ssmrun"
  },
  "language_info": {
   "codemirror_mode": {
    "name": "ipython",
    "version": 3
   },
   "file_extension": ".py",
   "mimetype": "text/x-python",
   "name": "python",
   "nbconvert_exporter": "python",
   "pygments_lexer": "ipython3",
   "version": "3.7.9"
  }
 },
 "nbformat": 4,
 "nbformat_minor": 4
}
